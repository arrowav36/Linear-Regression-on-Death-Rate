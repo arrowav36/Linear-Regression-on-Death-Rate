{
 "cells": [
  {
   "cell_type": "code",
   "execution_count": 19,
   "metadata": {},
   "outputs": [
    {
     "name": "stdout",
     "output_type": "stream",
     "text": [
      "36 27 71 8.1\n",
      "1023.474046196692\n"
     ]
    }
   ],
   "source": [
    "import pandas as pd\n",
    "import numpy as np\n",
    "import statistics\n",
    "#read dataset of csv format and label it\n",
    "X=pd.read_csv('death_rate.csv',names=('A1','A2','A3','A4','A5','A6','A7','A8','A9','A10','A11','A12','A13','A14','A15','B'))\n",
    "#extract each column and convert it into list\n",
    "A1 = X['A1']\n",
    "A1 = list(A1)\n",
    "A2 = X['A2']\n",
    "A2 = list(A2)\n",
    "A3 = X['A3']\n",
    "A3 = list(A3)\n",
    "A4 = X['A4']\n",
    "A4 = list(A4)\n",
    "B = X['B']\n",
    "B = list(B)\n",
    "#find mean of each independend and dependent variables\n",
    "X1=statistics.mean(A1)\n",
    "X2=statistics.mean(A2)\n",
    "X3=statistics.mean(A3)\n",
    "X4=statistics.mean(A4)\n",
    "Y1=statistics.mean(B)\n",
    "#function to find theta_1\n",
    "def fun1(x,y):\n",
    "    lst1=[]\n",
    "    lst2=[]\n",
    "    ls1=[]\n",
    "    ls2=[]\n",
    "    for i in range(len(x)):\n",
    "        a=x[i]-X1\n",
    "        lst1.append(a)\n",
    "    for i in range(len(x)):\n",
    "        b=y[i]-Y1\n",
    "        lst2.append(b)\n",
    "\n",
    "    q=np.array(lst1)\n",
    "    r=np.array(lst2)\n",
    "    h=list(q*r)\n",
    "\n",
    "    s=list(np.square(lst1))\n",
    "    O1=sum(h)/sum(s)\n",
    "    O01=Y1-(O1*X1)\n",
    "    ls1.append(O1)\n",
    "    ls2.append(O01)\n",
    "    ls1=ls1+ls2\n",
    "    return ls1\n",
    "aa=fun1(A1,B)\n",
    "bb=fun1(A2,B)\n",
    "cc=fun1(A3,B)\n",
    "dd=fun1(A4,B)\n",
    "\n",
    "O0=(aa[1]+bb[1]+cc[1]+dd[1])/4\n",
    "x1,x2,x3,x4=map(float,input().split())\n",
    "value=O0+aa[0]*x1+bb[0]*x2+cc[0]*x3+dd[0]*x4\n",
    "print(value)"
   ]
  },
  {
   "cell_type": "code",
   "execution_count": null,
   "metadata": {},
   "outputs": [],
   "source": []
  },
  {
   "cell_type": "code",
   "execution_count": null,
   "metadata": {},
   "outputs": [],
   "source": []
  }
 ],
 "metadata": {
  "kernelspec": {
   "display_name": "Python 3",
   "language": "python",
   "name": "python3"
  },
  "language_info": {
   "codemirror_mode": {
    "name": "ipython",
    "version": 3
   },
   "file_extension": ".py",
   "mimetype": "text/x-python",
   "name": "python",
   "nbconvert_exporter": "python",
   "pygments_lexer": "ipython3",
   "version": "3.6.5"
  }
 },
 "nbformat": 4,
 "nbformat_minor": 2
}
